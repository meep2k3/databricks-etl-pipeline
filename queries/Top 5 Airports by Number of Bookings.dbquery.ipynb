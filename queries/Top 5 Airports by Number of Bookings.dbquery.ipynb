{
 "cells": [
  {
   "cell_type": "code",
   "execution_count": 0,
   "metadata": {
    "application/vnd.databricks.v1+cell": {
     "cellMetadata": {
      "byteLimit": 10485760,
      "rowLimit": 1000
     },
     "inputWidgets": {},
     "nuid": "80fd9f85-c9f9-4ddc-8773-74af9d3a78eb",
     "showTitle": false,
     "tableResultSettingsMap": {},
     "title": ""
    }
   },
   "outputs": [],
   "source": [
    "SELECT a.airport_name, \n",
    "       COUNT(*) AS total_bookings\n",
    "FROM gold.fact_bookings b\n",
    "JOIN gold.dim_airports a \n",
    "  ON b.airport_sk = a.airport_sk\n",
    "GROUP BY a.airport_name\n",
    "ORDER BY total_bookings DESC\n",
    "LIMIT 5;\n"
   ]
  }
 ],
 "metadata": {
  "application/vnd.databricks.v1+notebook": {
   "computePreferences": null,
   "dashboards": [],
   "environmentMetadata": null,
   "inputWidgetPreferences": null,
   "language": "sql",
   "notebookMetadata": {
    "pythonIndentUnit": 4,
    "sqlQueryOptions": {
     "applyAutoLimit": true,
     "catalog": "workspace",
     "schema": "gold"
    }
   },
   "notebookName": "Top 5 Airports by Number of Bookings.dbquery.ipynb",
   "widgets": {}
  },
  "language_info": {
   "name": "sql"
  }
 },
 "nbformat": 4,
 "nbformat_minor": 0
}
