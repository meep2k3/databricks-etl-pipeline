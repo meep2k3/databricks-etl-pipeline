{
 "cells": [
  {
   "cell_type": "code",
   "execution_count": 0,
   "metadata": {
    "application/vnd.databricks.v1+cell": {
     "cellMetadata": {
      "byteLimit": 10485760,
      "rowLimit": 1000
     },
     "inputWidgets": {},
     "nuid": "90f29797-633d-4670-8c6f-a96d0ba1e0ec",
     "showTitle": false,
     "tableResultSettingsMap": {},
     "title": ""
    }
   },
   "outputs": [],
   "source": [
    "SELECT f.origin, \n",
    "       f.destination, \n",
    "       SUM(b.amount) AS total_revenue\n",
    "FROM gold.fact_bookings b\n",
    "JOIN gold.dim_flights f \n",
    "  ON b.flight_sk = f.flight_sk\n",
    "GROUP BY f.origin, f.destination\n",
    "ORDER BY total_revenue DESC;\n"
   ]
  }
 ],
 "metadata": {
  "application/vnd.databricks.v1+notebook": {
   "computePreferences": null,
   "dashboards": [],
   "environmentMetadata": null,
   "inputWidgetPreferences": null,
   "language": "sql",
   "notebookMetadata": {
    "pythonIndentUnit": 4,
    "sqlQueryOptions": {
     "applyAutoLimit": true,
     "catalog": "workspace",
     "schema": "gold"
    }
   },
   "notebookName": "Revenue by Route.dbquery.ipynb",
   "widgets": {}
  },
  "language_info": {
   "name": "sql"
  }
 },
 "nbformat": 4,
 "nbformat_minor": 0
}
