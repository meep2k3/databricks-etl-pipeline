{
 "cells": [
  {
   "cell_type": "code",
   "execution_count": 0,
   "metadata": {
    "application/vnd.databricks.v1+cell": {
     "cellMetadata": {
      "byteLimit": 2048000,
      "implicitDf": true,
      "rowLimit": 10000
     },
     "inputWidgets": {},
     "nuid": "37dd7d40-e37b-40f3-9406-ecd2e1b8b705",
     "showTitle": false,
     "tableResultSettingsMap": {},
     "title": ""
    }
   },
   "outputs": [],
   "source": [
    "spark.sql(\"CREATE DATABASE IF NOT EXISTS gold\")"
   ]
  },
  {
   "cell_type": "code",
   "execution_count": 0,
   "metadata": {
    "application/vnd.databricks.v1+cell": {
     "cellMetadata": {
      "byteLimit": 2048000,
      "rowLimit": 10000
     },
     "inputWidgets": {},
     "nuid": "999680a1-0985-46e4-96ab-6fb538949238",
     "showTitle": false,
     "tableResultSettingsMap": {},
     "title": ""
    }
   },
   "outputs": [],
   "source": [
    "from pyspark.sql.functions import monotonically_increasing_id\n",
    "\n",
    "# dim_flights\n",
    "df_dim_flights = (\n",
    "    spark.table(\"silver.silver_flights\")\n",
    "    .withColumn(\"flight_sk\", monotonically_increasing_id())  # surrogate key\n",
    "    .select(\"flight_sk\", \"flight_id\", \"airline\", \"origin\", \"destination\", \"flight_date\")\n",
    ")\n",
    "\n",
    "df_dim_flights.write.mode(\"overwrite\").saveAsTable(\"gold.dim_flights\")\n",
    "\n",
    "# dim_airports\n",
    "df_dim_airports = (\n",
    "    spark.table(\"silver.silver_airports\")\n",
    "    .withColumn(\"airport_sk\", monotonically_increasing_id())\n",
    "    .select(\"airport_sk\", \"airport_id\", \"airport_name\", \"city\", \"country\")\n",
    ")\n",
    "\n",
    "df_dim_airports.write.mode(\"overwrite\").saveAsTable(\"gold.dim_airports\")\n",
    "\n",
    "# dim_passengers\n",
    "df_dim_passengers = (\n",
    "    spark.table(\"silver.silver_passengers\")\n",
    "    .withColumn(\"passenger_sk\", monotonically_increasing_id())\n",
    "    .select(\"passenger_sk\", \"passenger_id\", \"name\", \"gender\", \"nationality\")\n",
    ")\n",
    "\n",
    "df_dim_passengers.write.mode(\"overwrite\").saveAsTable(\"gold.dim_passengers\")"
   ]
  },
  {
   "cell_type": "code",
   "execution_count": 0,
   "metadata": {
    "application/vnd.databricks.v1+cell": {
     "cellMetadata": {
      "byteLimit": 2048000,
      "rowLimit": 10000
     },
     "inputWidgets": {},
     "nuid": "ec369195-2139-48b9-a7c9-a40ecaccf6ee",
     "showTitle": false,
     "tableResultSettingsMap": {},
     "title": ""
    }
   },
   "outputs": [],
   "source": [
    "df_fact_bookings = (\n",
    "    spark.table(\"silver.silver_bookings\")\n",
    "    # join với dim_passengers\n",
    "    .join(df_dim_passengers, \"passenger_id\", \"left\")\n",
    "    # join với dim_flights\n",
    "    .join(df_dim_flights, \"flight_id\", \"left\")\n",
    "    # join với dim_airports\n",
    "    .join(df_dim_airports, \"airport_id\", \"left\")\n",
    "    .select(\n",
    "        \"booking_id\",\n",
    "        \"passenger_sk\",\n",
    "        \"flight_sk\",\n",
    "        \"airport_sk\",\n",
    "        \"amount\",\n",
    "        \"booking_date\"\n",
    "    )\n",
    ")\n",
    "\n",
    "df_fact_bookings.write.mode(\"overwrite\").saveAsTable(\"gold.fact_bookings\")"
   ]
  },
  {
   "cell_type": "code",
   "execution_count": 0,
   "metadata": {
    "application/vnd.databricks.v1+cell": {
     "cellMetadata": {
      "byteLimit": 2048000,
      "rowLimit": 10000
     },
     "inputWidgets": {},
     "nuid": "ad8f13bc-63ae-4c76-a599-fe8cb84ea4ae",
     "showTitle": false,
     "tableResultSettingsMap": {},
     "title": ""
    }
   },
   "outputs": [],
   "source": [
    "spark.sql(\"SHOW TABLES IN gold\").show()\n",
    "\n",
    "spark.sql(\"SELECT * FROM gold.fact_bookings LIMIT 10\").show()\n"
   ]
  }
 ],
 "metadata": {
  "application/vnd.databricks.v1+notebook": {
   "computePreferences": null,
   "dashboards": [],
   "environmentMetadata": {
    "base_environment": "",
    "environment_version": "3"
   },
   "inputWidgetPreferences": null,
   "language": "python",
   "notebookMetadata": {
    "mostRecentlyExecutedCommandWithImplicitDF": {
     "commandId": -1,
     "dataframes": [
      "_sqldf"
     ]
    },
    "pythonIndentUnit": 4
   },
   "notebookName": "GoldLayer",
   "widgets": {}
  },
  "language_info": {
   "name": "python"
  }
 },
 "nbformat": 4,
 "nbformat_minor": 0
}
